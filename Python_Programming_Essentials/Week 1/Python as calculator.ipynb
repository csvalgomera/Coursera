{
 "cells": [
  {
   "cell_type": "code",
   "execution_count": 13,
   "metadata": {},
   "outputs": [
    {
     "name": "stdout",
     "output_type": "stream",
     "text": [
      "Hello, world!\n"
     ]
    }
   ],
   "source": [
    "\"\"\"\n",
    "Docstring\n",
    "\"\"\"\n",
    "#My first python program\n",
    "print(\"Hello, world!\")"
   ]
  },
  {
   "cell_type": "code",
   "execution_count": 10,
   "metadata": {},
   "outputs": [
    {
     "data": {
      "text/plain": [
       "2"
      ]
     },
     "execution_count": 10,
     "metadata": {},
     "output_type": "execute_result"
    }
   ],
   "source": [
    "import matplotlib.pyplot as plt\n",
    "import numpy as np\n",
    "np.sum(1+1)"
   ]
  },
  {
   "cell_type": "code",
   "execution_count": 6,
   "metadata": {},
   "outputs": [
    {
     "ename": "AttributeError",
     "evalue": "module 'simplegui' has no attribute 'create_frame'",
     "output_type": "error",
     "traceback": [
      "\u001b[0;31m---------------------------------------------------------------------------\u001b[0m",
      "\u001b[0;31mAttributeError\u001b[0m                            Traceback (most recent call last)",
      "\u001b[0;32m<ipython-input-6-b01debe9d839>\u001b[0m in \u001b[0;36m<module>\u001b[0;34m()\u001b[0m\n\u001b[1;32m     19\u001b[0m \u001b[0;34m\u001b[0m\u001b[0m\n\u001b[1;32m     20\u001b[0m \u001b[0;31m# Create a frame and assign callbacks to event handlers\u001b[0m\u001b[0;34m\u001b[0m\u001b[0;34m\u001b[0m\u001b[0m\n\u001b[0;32m---> 21\u001b[0;31m \u001b[0mframe\u001b[0m \u001b[0;34m=\u001b[0m \u001b[0msimplegui\u001b[0m\u001b[0;34m.\u001b[0m\u001b[0mcreate_frame\u001b[0m\u001b[0;34m(\u001b[0m\u001b[0;34m\"Home\"\u001b[0m\u001b[0;34m,\u001b[0m \u001b[0;36m300\u001b[0m\u001b[0;34m,\u001b[0m \u001b[0;36m200\u001b[0m\u001b[0;34m)\u001b[0m\u001b[0;34m\u001b[0m\u001b[0m\n\u001b[0m\u001b[1;32m     22\u001b[0m \u001b[0mframe\u001b[0m\u001b[0;34m.\u001b[0m\u001b[0madd_button\u001b[0m\u001b[0;34m(\u001b[0m\u001b[0;34m\"Click me\"\u001b[0m\u001b[0;34m,\u001b[0m \u001b[0mclick\u001b[0m\u001b[0;34m)\u001b[0m\u001b[0;34m\u001b[0m\u001b[0m\n\u001b[1;32m     23\u001b[0m \u001b[0mframe\u001b[0m\u001b[0;34m.\u001b[0m\u001b[0mset_draw_handler\u001b[0m\u001b[0;34m(\u001b[0m\u001b[0mdraw\u001b[0m\u001b[0;34m)\u001b[0m\u001b[0;34m\u001b[0m\u001b[0m\n",
      "\u001b[0;31mAttributeError\u001b[0m: module 'simplegui' has no attribute 'create_frame'"
     ]
    }
   ],
   "source": [
    "# CodeSkulptor runs Python programs in your browser.\n",
    "# Click the upper left button to run this simple demo.\n",
    "\n",
    "# CodeSkulptor is tested to run in recent versions of\n",
    "# Chrome, Firefox, and Safari.\n",
    "\n",
    "import simplegui\n",
    "\n",
    "message = \"Welcome!\"\n",
    "\n",
    "# Handler for mouse click\n",
    "def click():\n",
    "    global message\n",
    "    message = \"Good job!\"\n",
    "\n",
    "# Handler to draw on canvas\n",
    "def draw(canvas):\n",
    "    canvas.draw_text(message, [50,112], 48, \"Red\")\n",
    "\n",
    "# Create a frame and assign callbacks to event handlers\n",
    "frame = simplegui.create_frame(\"Home\", 300, 200)\n",
    "frame.add_button(\"Click me\", click)\n",
    "frame.set_draw_handler(draw)\n",
    "\n",
    "# Start the frame animation\n",
    "frame.start()"
   ]
  },
  {
   "cell_type": "code",
   "execution_count": 7,
   "metadata": {},
   "outputs": [
    {
     "name": "stdout",
     "output_type": "stream",
     "text": [
      "int\n",
      "---\n",
      "0\n",
      "1\n",
      "-3\n",
      "70383028364830\n",
      "\n",
      "float\n",
      "-----\n",
      "0.0\n",
      "7.35\n",
      "-43.2\n",
      "\n",
      "Precision\n",
      "---------\n",
      "4.563728838323318\n",
      "1.2345678901234567\n",
      "\n",
      "Scientific notation\n",
      "-------------------\n",
      "5e+32\n",
      "1e+39\n",
      "\n",
      "Infinity\n",
      "--------\n",
      "inf\n",
      "-inf\n",
      "\n",
      "Conversions between numeric types\n",
      "---------------------------------\n",
      "3.0\n",
      "1e+38\n",
      "3\n",
      "3\n",
      "-3\n"
     ]
    }
   ],
   "source": [
    "\"\"\"\n",
    "Demonstration of numbers in Python\n",
    "\"\"\"\n",
    "\n",
    "# Python has an integer type called int\n",
    "print(\"int\")\n",
    "print(\"---\")\n",
    "print(0)\n",
    "print(1)\n",
    "print(-3)\n",
    "print(70383028364830)\n",
    "\n",
    "print(\"\")\n",
    "\n",
    "# Python has a real number type called float\n",
    "print(\"float\")\n",
    "print(\"-----\")\n",
    "print(0.0)\n",
    "print(7.35)\n",
    "print(-43.2)\n",
    "\n",
    "print(\"\")\n",
    "\n",
    "# Limited precision\n",
    "print(\"Precision\")\n",
    "print(\"---------\")\n",
    "print(4.56372883832331773)\n",
    "print(1.23456789012345678)\n",
    "\n",
    "print(\"\")\n",
    "\n",
    "# Scientific/exponential notation\n",
    "print(\"Scientific notation\")\n",
    "print(\"-------------------\")\n",
    "print(5e32)\n",
    "print(999999999999999999999999999999999999999.9)\n",
    "\n",
    "print(\"\")\n",
    "\n",
    "# Infinity\n",
    "print(\"Infinity\")\n",
    "print(\"--------\")\n",
    "print(1e500)\n",
    "print(-1e500)\n",
    "\n",
    "print(\"\")\n",
    "\n",
    "# Conversions\n",
    "print(\"Conversions between numeric types\")\n",
    "print(\"---------------------------------\")\n",
    "print(float(3))\n",
    "print(float(99999999999999999999999999999999999999))\n",
    "print(int(3.0))\n",
    "print(int(3.7))\n",
    "print(int(-3.7))\n"
   ]
  },
  {
   "cell_type": "code",
   "execution_count": null,
   "metadata": {},
   "outputs": [],
   "source": []
  }
 ],
 "metadata": {
  "kernelspec": {
   "display_name": "Python 3",
   "language": "python",
   "name": "python3"
  },
  "language_info": {
   "codemirror_mode": {
    "name": "ipython",
    "version": 3
   },
   "file_extension": ".py",
   "mimetype": "text/x-python",
   "name": "python",
   "nbconvert_exporter": "python",
   "pygments_lexer": "ipython3",
   "version": "3.7.0"
  }
 },
 "nbformat": 4,
 "nbformat_minor": 2
}
