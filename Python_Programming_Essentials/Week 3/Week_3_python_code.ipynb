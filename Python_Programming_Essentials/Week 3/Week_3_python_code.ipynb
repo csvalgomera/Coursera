{
 "cells": [
  {
   "cell_type": "code",
   "execution_count": 1,
   "metadata": {},
   "outputs": [
    {
     "name": "stdout",
     "output_type": "stream",
     "text": [
      "True False\n",
      "\n",
      "Logical NOT\n",
      "===========\n",
      "False\n",
      "True\n",
      "\n",
      "Logical AND\n",
      "===========\n",
      "True\n",
      "False\n",
      "False\n",
      "\n",
      "Logical OR\n",
      "==========\n",
      "True\n",
      "True\n",
      "False\n",
      "\n",
      "True\n"
     ]
    }
   ],
   "source": [
    "\"\"\"\n",
    "Demonstration of logical expressions.\n",
    "\"\"\"\n",
    "\n",
    "# Boolean values are True and False\n",
    "value1 = True\n",
    "value2 = False\n",
    "print(value1, value2)\n",
    "\n",
    "print(\"\")\n",
    "\n",
    "# Logical NOT\n",
    "print(\"Logical NOT\")\n",
    "print(\"===========\")\n",
    "print(not value1)\n",
    "print(not value2)\n",
    "\n",
    "print(\"\")\n",
    "\n",
    "# Logical AND\n",
    "print(\"Logical AND\")\n",
    "print(\"===========\")\n",
    "print(value1 and value1)\n",
    "print(value1 and value2)\n",
    "print(value2 and value2)\n",
    "\n",
    "print(\"\")\n",
    "\n",
    "# Logical OR\n",
    "print(\"Logical OR\")\n",
    "print(\"==========\")\n",
    "print(value1 or value1)\n",
    "print(value1 or value2)\n",
    "print(value2 or value2)\n",
    "\n",
    "print(\"\")\n",
    "\n",
    "value3 = True\n",
    "value4 = True\n",
    "\n",
    "print(value2 or ((value1 and value4) or value3))\n"
   ]
  },
  {
   "cell_type": "code",
   "execution_count": 4,
   "metadata": {},
   "outputs": [
    {
     "name": "stdout",
     "output_type": "stream",
     "text": [
      "Comparisons\n",
      "===========\n",
      "True\n",
      "False\n",
      "True\n",
      "False\n",
      "False\n",
      "True\n",
      "\n",
      "Comparing Variables\n",
      "===================\n",
      "False\n",
      "\n",
      "Comparing Strings\n",
      "=================\n",
      "True\n"
     ]
    }
   ],
   "source": [
    "\"\"\"\n",
    "Demonstration of arithmetic comparisons\n",
    "\"\"\"\n",
    "\n",
    "# Six different arithmetic comparison operators\n",
    "print(\"Comparisons\")\n",
    "print(\"===========\")\n",
    "print(7 > 3)\n",
    "print(7 < 3)\n",
    "print(7 >= 3)\n",
    "print(7 <= 3)\n",
    "print(7 == 3)\n",
    "print(7 != 3)\n",
    "\n",
    "print(\"\")\n",
    "\n",
    "# Using comparisons to get a boolean value\n",
    "print(\"Comparing Variables\")\n",
    "print(\"===================\")\n",
    "num1 = 7.3\n",
    "num2 = 8.6\n",
    "\n",
    "greater = num1 > num2\n",
    "print(greater)\n",
    "\n",
    "print(\"\")\n",
    "\n",
    "# == and != are also useful for non-numeric types\n",
    "print(\"Comparing Strings\")\n",
    "print(\"=================\")\n",
    "name = 'Scott'\n",
    "\n",
    "# Beware of = and == confusion!\n",
    "equal = name != \"Joe\"\n",
    "print(equal)"
   ]
  },
  {
   "cell_type": "code",
   "execution_count": 5,
   "metadata": {},
   "outputs": [
    {
     "name": "stdout",
     "output_type": "stream",
     "text": [
      "Money: 5\n",
      "\n",
      "Hi!\n",
      "Money: 5\n",
      "\n",
      "Hi!\n",
      "Money: 5\n",
      "\n"
     ]
    }
   ],
   "source": [
    "\"\"\"\n",
    "Demonstration of if statements.\n",
    "\"\"\"\n",
    "\n",
    "def greet(friend, money):\n",
    "    \"\"\"\n",
    "    Greet people.  Say hi if they are your friend and give them\n",
    "    $20 if you have enough money.\n",
    "    \"\"\"\n",
    "    if friend:\n",
    "        print(\"Hi!\")\n",
    "\n",
    "    if money > 20:\n",
    "        money = money - 20\n",
    "\n",
    "    return money\n",
    "\n",
    "\n",
    "money = 25\n",
    "\n",
    "money = greet(False, money)\n",
    "print(\"Money:\", money)\n",
    "print()\n",
    "\n",
    "money = greet(True, money)\n",
    "print(\"Money:\", money)\n",
    "print()\n",
    "\n",
    "money = greet(True, money)\n",
    "print(\"Money:\", money)\n",
    "print()\n"
   ]
  },
  {
   "cell_type": "code",
   "execution_count": 6,
   "metadata": {},
   "outputs": [
    {
     "name": "stdout",
     "output_type": "stream",
     "text": [
      "Hello\n",
      "Money: 15\n",
      "\n",
      "Ha ha!\n",
      "Money: 25\n",
      "\n",
      "Hi!\n",
      "Money: 5\n",
      "\n"
     ]
    }
   ],
   "source": [
    "\"\"\"\n",
    "Demonstration of else and elif.\n",
    "\"\"\"\n",
    "\n",
    "def greet(friend, money):\n",
    "    \"\"\"\n",
    "    Greet people.  Say hi if they are your friend.  Give them\n",
    "    $20 if they are your friend and you have enough money.  Steal\n",
    "    $10 from them if they are not your friend.\n",
    "    \"\"\"\n",
    "    if friend and (money > 20):\n",
    "        print(\"Hi!\")\n",
    "        money = money - 20\n",
    "    elif friend:\n",
    "        print(\"Hello\")\n",
    "    else:\n",
    "        print(\"Ha ha!\")\n",
    "        money = money + 10\n",
    "    return money\n",
    "\n",
    "\n",
    "money = 15\n",
    "\n",
    "money = greet(True, money)\n",
    "print(\"Money:\", money)\n",
    "print()\n",
    "\n",
    "money = greet(False, money)\n",
    "print(\"Money:\", money)\n",
    "print()\n",
    "\n",
    "money = greet(True, money)\n",
    "print(\"Money:\", money)\n",
    "print()\n"
   ]
  },
  {
   "cell_type": "code",
   "execution_count": 1,
   "metadata": {},
   "outputs": [],
   "source": [
    "def is_even(number):\n",
    "    \"\"\"\n",
    "    Returns true if number is even\n",
    "    \"\"\"\n",
    "    return (number %2 ) == 0"
   ]
  },
  {
   "cell_type": "code",
   "execution_count": 5,
   "metadata": {},
   "outputs": [
    {
     "data": {
      "text/plain": [
       "True"
      ]
     },
     "execution_count": 5,
     "metadata": {},
     "output_type": "execute_result"
    }
   ],
   "source": [
    "number = 6\n",
    "is_even(number)"
   ]
  },
  {
   "cell_type": "code",
   "execution_count": 6,
   "metadata": {},
   "outputs": [
    {
     "name": "stdout",
     "output_type": "stream",
     "text": [
      "6  is even.\n"
     ]
    }
   ],
   "source": [
    "if is_even(number):\n",
    "    print(number, \" is even.\")\n",
    "else:\n",
    "    print(number, \" is odd.\")"
   ]
  },
  {
   "cell_type": "code",
   "execution_count": 22,
   "metadata": {},
   "outputs": [],
   "source": [
    "def is_cool(name):\n",
    "    \"\"\"\n",
    "    If the name is Joe, John or Stephen.\n",
    "    \"\"\"\n",
    "    return (name == \"Joe\") or (name == \"John\") or (name == \"Stephen\")"
   ]
  },
  {
   "cell_type": "code",
   "execution_count": 23,
   "metadata": {},
   "outputs": [
    {
     "data": {
      "text/plain": [
       "True"
      ]
     },
     "execution_count": 23,
     "metadata": {},
     "output_type": "execute_result"
    }
   ],
   "source": [
    "name = \"John\"\n",
    "is_cool(name)"
   ]
  },
  {
   "cell_type": "code",
   "execution_count": 24,
   "metadata": {},
   "outputs": [
    {
     "data": {
      "text/plain": [
       "True"
      ]
     },
     "execution_count": 24,
     "metadata": {},
     "output_type": "execute_result"
    }
   ],
   "source": [
    "name = \"Joe\"\n",
    "is_cool(name)"
   ]
  },
  {
   "cell_type": "code",
   "execution_count": 25,
   "metadata": {},
   "outputs": [
    {
     "data": {
      "text/plain": [
       "True"
      ]
     },
     "execution_count": 25,
     "metadata": {},
     "output_type": "execute_result"
    }
   ],
   "source": [
    "name = \"Stephen\"\n",
    "is_cool(name)"
   ]
  },
  {
   "cell_type": "code",
   "execution_count": 26,
   "metadata": {},
   "outputs": [
    {
     "data": {
      "text/plain": [
       "False"
      ]
     },
     "execution_count": 26,
     "metadata": {},
     "output_type": "execute_result"
    }
   ],
   "source": [
    "name = \"Christian\"\n",
    "is_cool(name)"
   ]
  },
  {
   "cell_type": "code",
   "execution_count": 30,
   "metadata": {},
   "outputs": [],
   "source": [
    "def is_lunchtime(hour, is_am):\n",
    "    \"\"\"\n",
    "    Lunchtime.\n",
    "    \"\"\"\n",
    "    return (hour == 11 and is_am) or (hour == 12 and not is_am)"
   ]
  },
  {
   "cell_type": "code",
   "execution_count": 31,
   "metadata": {},
   "outputs": [],
   "source": [
    "def is_lunchtime_test(hour, is_am):\n",
    "    print(hour, end =\"\")\n",
    "    if is_am:\n",
    "        print(\"AM\", end = \"\")\n",
    "    else:\n",
    "        print(\"PM\", end = \"\")\n",
    "    if is_lunchtime(hour,is_am):\n",
    "        print(\"is lunchtime.\")\n",
    "    else:\n",
    "        print(\"is not lunchtime.\")"
   ]
  },
  {
   "cell_type": "code",
   "execution_count": 32,
   "metadata": {},
   "outputs": [
    {
     "name": "stdout",
     "output_type": "stream",
     "text": [
      "11AMis lunchtime.\n"
     ]
    }
   ],
   "source": [
    "is_lunchtime_test(11, True)"
   ]
  },
  {
   "cell_type": "code",
   "execution_count": 33,
   "metadata": {},
   "outputs": [
    {
     "name": "stdout",
     "output_type": "stream",
     "text": [
      "11PMis not lunchtime.\n"
     ]
    }
   ],
   "source": [
    "is_lunchtime_test(11, False)"
   ]
  },
  {
   "cell_type": "code",
   "execution_count": 34,
   "metadata": {},
   "outputs": [
    {
     "name": "stdout",
     "output_type": "stream",
     "text": [
      "10AMis not lunchtime.\n"
     ]
    }
   ],
   "source": [
    "is_lunchtime_test(10, True)"
   ]
  },
  {
   "cell_type": "code",
   "execution_count": 49,
   "metadata": {},
   "outputs": [],
   "source": [
    "def is_leap_year(year):\n",
    "    return ((year % 4) == 0 and ((year % 100) != 0 or (year % 400) == 0))"
   ]
  },
  {
   "cell_type": "code",
   "execution_count": 55,
   "metadata": {},
   "outputs": [
    {
     "name": "stdout",
     "output_type": "stream",
     "text": [
      "2100 is not leapyear.\n"
     ]
    }
   ],
   "source": [
    "year = 2100\n",
    "if is_leap_year(year):\n",
    "    print(year,\"is leapyear.\")\n",
    "else:\n",
    "    print(year, \"is not leapyear.\")"
   ]
  },
  {
   "cell_type": "code",
   "execution_count": 57,
   "metadata": {},
   "outputs": [],
   "source": [
    "def interval_intersect(a,b,c,d):\n",
    "    return (c<=b) and (a<=d)"
   ]
  },
  {
   "cell_type": "code",
   "execution_count": 58,
   "metadata": {},
   "outputs": [
    {
     "name": "stdout",
     "output_type": "stream",
     "text": [
      "Intervals [0, 1] and [1, 2] intersect.\n"
     ]
    }
   ],
   "source": [
    "a, b, c, d = 0, 1, 1, 2\n",
    "print(\"Intervals [\" + str(a) + \", \" + str(b) + \"] and [\" + \n",
    "      str(c) + \", \" + str(d) + \"] \", end = \"\")\n",
    "if interval_intersect(a, b, c, d):\n",
    "    print(\"intersect.\")\n",
    "else:\n",
    "    print(\"do not intersect.\")"
   ]
  },
  {
   "cell_type": "code",
   "execution_count": 65,
   "metadata": {},
   "outputs": [],
   "source": [
    "def name_and_age(name, age):\n",
    "    if age>= 0:\n",
    "        return name + \" is \" + str(age) + \" years old.\"\n",
    "    else:\n",
    "        return \"Error: Invalid Age\""
   ]
  },
  {
   "cell_type": "code",
   "execution_count": 66,
   "metadata": {},
   "outputs": [],
   "source": [
    "name = \"Christian\"\n",
    "age = 28"
   ]
  },
  {
   "cell_type": "code",
   "execution_count": 67,
   "metadata": {},
   "outputs": [
    {
     "data": {
      "text/plain": [
       "'Christian is 28 years old.'"
      ]
     },
     "execution_count": 67,
     "metadata": {},
     "output_type": "execute_result"
    }
   ],
   "source": [
    "name_and_age(name,age)"
   ]
  },
  {
   "cell_type": "code",
   "execution_count": 98,
   "metadata": {},
   "outputs": [],
   "source": [
    "def print_digits(number):\n",
    "    if 0<= number <100:\n",
    "        print(\"The tens digit is \" + str(number // 10) + \",\" \"the ones digits is\", str(number % 10))\n",
    "    else:\n",
    "        print(\"Error: Input is not a two digit number.\")"
   ]
  },
  {
   "cell_type": "code",
   "execution_count": 99,
   "metadata": {},
   "outputs": [],
   "source": [
    "number = 82"
   ]
  },
  {
   "cell_type": "code",
   "execution_count": 100,
   "metadata": {},
   "outputs": [
    {
     "name": "stdout",
     "output_type": "stream",
     "text": [
      "The tens digit is 8,the ones digits is 2\n"
     ]
    }
   ],
   "source": [
    "print_digits(number)"
   ]
  },
  {
   "cell_type": "code",
   "execution_count": 106,
   "metadata": {},
   "outputs": [],
   "source": [
    "def name_lookup(first_name):\n",
    "    if first_name == \"Joe\":\n",
    "        return \"Warren\"\n",
    "    elif first_name == \"Scott\":\n",
    "        return \"Rixner\"\n",
    "    elif first_name == \"Christian\":\n",
    "        return \"Valgomera\"\n",
    "    else:\n",
    "        return \"Error: Not an instructor.\""
   ]
  },
  {
   "cell_type": "code",
   "execution_count": 107,
   "metadata": {},
   "outputs": [
    {
     "name": "stdout",
     "output_type": "stream",
     "text": [
      "Christian's last name is Valgomera\n"
     ]
    }
   ],
   "source": [
    "first_name = \"Christian\"\n",
    "print(first_name + \"'s last name is\", name_lookup(first_name))"
   ]
  },
  {
   "cell_type": "code",
   "execution_count": 112,
   "metadata": {},
   "outputs": [],
   "source": [
    "def pig_latin(word):\n",
    "    first_letter = word[0]\n",
    "    rest_of_the_word = word[1 : ]\n",
    "    \n",
    "    if (first_letter == \"a\" or first_letter == \"e\" or first_letter == \"i\" or first_letter == \"o\" or first_letter == \"u\"):\n",
    "        return word + \"way\"\n",
    "    else:\n",
    "        return rest_of_the_word + first_letter + \"ay\"    "
   ]
  },
  {
   "cell_type": "code",
   "execution_count": 113,
   "metadata": {},
   "outputs": [
    {
     "name": "stdout",
     "output_type": "stream",
     "text": [
      "igpay\n"
     ]
    }
   ],
   "source": [
    "word = \"pig\"\n",
    "print(pig_latin(word))"
   ]
  },
  {
   "cell_type": "code",
   "execution_count": 114,
   "metadata": {},
   "outputs": [
    {
     "name": "stdout",
     "output_type": "stream",
     "text": [
      "ordway\n"
     ]
    }
   ],
   "source": [
    "word = \"word\"\n",
    "print(pig_latin(word))"
   ]
  },
  {
   "cell_type": "code",
   "execution_count": 118,
   "metadata": {},
   "outputs": [
    {
     "name": "stdout",
     "output_type": "stream",
     "text": [
      "The smaller root of 1x^2 + 5x + 3 is: \n",
      "-4.302775637731995\n"
     ]
    }
   ],
   "source": [
    "\"\"\"\n",
    "Solution - Compute the smaller root of a quadratic equation.\n",
    "\"\"\"\n",
    "\n",
    "###################################################\n",
    "# Smaller quadratic root formula\n",
    "# Student should enter function on the next lines.\n",
    "def smaller_root(a, b, c):\n",
    "    \"\"\"\n",
    "    Returns the smaller root of a quadratic equation with the\n",
    "    given coefficients.\n",
    "    \"\"\"\n",
    "    \n",
    "    discriminant = b ** 2 - 4 * a * c\n",
    "    if discriminant < 0 or a == 0:\n",
    "        print(\"Error: No real solutions\")\n",
    "    else:\n",
    "        discriminant_sqrt = discriminant ** 0.5\n",
    "        # Choose the positive or negative square root that leads to a smaller root.\n",
    "        if a > 0:\n",
    "            smaller = - discriminant_sqrt\n",
    "        else:\n",
    "            smaller = discriminant_sqrt\n",
    "        return (-b + smaller) / (2 * a)\n",
    "\n",
    "\n",
    "###################################################\n",
    "# Tests\n",
    "# Student should not change this code.\n",
    "\n",
    "a, b, c = 1, 5, 3\n",
    "print(\"The smaller root of \" + str(a) + \"x^2 + \" + str(b) + \n",
    "      \"x + \" + str(c) + \" is: \")\n",
    "print(str(smaller_root(a, b, c)))\n",
    "\n",
    "\n",
    "###################################################\n",
    "# Expected output\n",
    "# Student should look at the following comments and compare to printed output.\n",
    "\n",
    "#The smaller root of 1x^2 + 2x + 3 is:\n",
    "#Error: No real solutions\n",
    "#None\n",
    "#The smaller root of 2x^2 + 0x + -10 is:\n",
    "#-2.2360679775\n",
    "#The smaller root of 6x^2 + -3x + 5 is:\n",
    "#Error: No real solutions\n",
    "#None\n"
   ]
  },
  {
   "cell_type": "code",
   "execution_count": 120,
   "metadata": {},
   "outputs": [],
   "source": [
    "def root(a,b,c):\n",
    "    discriminant = b**2 - 4*a*c\n",
    "    if discriminant < 0:\n",
    "        print(\"Error: There is no solution\")\n",
    "    else:\n",
    "        sqrt_discriminant = discriminant**0.5\n",
    "        root_of_equation = (-b+sqrt_discriminant)/(2*a)\n",
    "        print(root_of_equation)"
   ]
  },
  {
   "cell_type": "code",
   "execution_count": 122,
   "metadata": {},
   "outputs": [
    {
     "name": "stdout",
     "output_type": "stream",
     "text": [
      "-0.6972243622680054\n"
     ]
    }
   ],
   "source": [
    "a,b,c = 1,5,3\n",
    "root(a,b,c)"
   ]
  },
  {
   "cell_type": "code",
   "execution_count": 132,
   "metadata": {},
   "outputs": [
    {
     "name": "stdout",
     "output_type": "stream",
     "text": [
      "True False\n",
      "False\n"
     ]
    }
   ],
   "source": [
    "# Boolean values are True and False\n",
    "p = True\n",
    "q = False\n",
    "print(p, q)\n",
    "\n",
    "# Logical NOT\n",
    "print(not p)"
   ]
  },
  {
   "cell_type": "code",
   "execution_count": 150,
   "metadata": {},
   "outputs": [],
   "source": [
    "import matplotlib.pyplot as plt\n",
    "def collatz_conjecture(n):\n",
    "    while n > 1:\n",
    "        print(n, end = \" \")\n",
    "        \n",
    "        if (n % 2):\n",
    "            n = 3*n+1\n",
    "        else:\n",
    "            n = n//2\n",
    "    print(1, end = \" \")"
   ]
  },
  {
   "cell_type": "code",
   "execution_count": 156,
   "metadata": {},
   "outputs": [
    {
     "name": "stdout",
     "output_type": "stream",
     "text": [
      "Enter n:1071\n",
      "Sequence:1071 3214 1607 4822 2411 7234 3617 10852 5426 2713 8140 4070 2035 6106 3053 9160 4580 2290 1145 3436 1718 859 2578 1289 3868 1934 967 2902 1451 4354 2177 6532 3266 1633 4900 2450 1225 3676 1838 919 2758 1379 4138 2069 6208 3104 1552 776 388 194 97 292 146 73 220 110 55 166 83 250 125 376 188 94 47 142 71 214 107 322 161 484 242 121 364 182 91 274 137 412 206 103 310 155 466 233 700 350 175 526 263 790 395 1186 593 1780 890 445 1336 668 334 167 502 251 754 377 1132 566 283 850 425 1276 638 319 958 479 1438 719 2158 1079 3238 1619 4858 2429 7288 3644 1822 911 2734 1367 4102 2051 6154 3077 9232 4616 2308 1154 577 1732 866 433 1300 650 325 976 488 244 122 61 184 92 46 23 70 35 106 53 160 80 40 20 10 5 16 8 4 2 1 "
     ]
    }
   ],
   "source": [
    "n=int(input(\"Enter n:\"))\n",
    "print(\"Sequence:\", end=\"\")\n",
    "collatz_conjecture(n)"
   ]
  },
  {
   "cell_type": "code",
   "execution_count": 135,
   "metadata": {},
   "outputs": [
    {
     "name": "stdout",
     "output_type": "stream",
     "text": [
      "2461.5\n"
     ]
    }
   ],
   "source": []
  },
  {
   "cell_type": "code",
   "execution_count": null,
   "metadata": {},
   "outputs": [],
   "source": []
  }
 ],
 "metadata": {
  "kernelspec": {
   "display_name": "Python 3",
   "language": "python",
   "name": "python3"
  },
  "language_info": {
   "codemirror_mode": {
    "name": "ipython",
    "version": 3
   },
   "file_extension": ".py",
   "mimetype": "text/x-python",
   "name": "python",
   "nbconvert_exporter": "python",
   "pygments_lexer": "ipython3",
   "version": "3.7.0"
  }
 },
 "nbformat": 4,
 "nbformat_minor": 2
}
